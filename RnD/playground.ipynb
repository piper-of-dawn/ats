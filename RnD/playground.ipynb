{
 "cells": [
  {
   "cell_type": "code",
   "execution_count": 1,
   "metadata": {},
   "outputs": [],
   "source": [
    "import sys\n",
    "sys.path.append('/home/karma/ats/RnD/')\n",
    "from functools import lru_cache\n",
    "import pandas as pd\n",
    "import polars as pl\n",
    "from yfinance_utils import fetch_stock_data, get_sp500_data, parallelize_fetch, get_ticker_data"
   ]
  },
  {
   "cell_type": "code",
   "execution_count": 2,
   "metadata": {},
   "outputs": [
    {
     "name": "stdout",
     "output_type": "stream",
     "text": [
      "YF.download() has changed argument auto_adjust default to True\n"
     ]
    },
    {
     "name": "stderr",
     "output_type": "stream",
     "text": [
      "\n",
      "1 Failed download:\n",
      "['^SPX']: YFPricesMissingError('possibly delisted; no price data found  (1d 2025-03-26 -> 2020-01-01) (Yahoo error = \"Invalid input - start date cannot be after end date. startDate = 1742961600, endDate = 1577854800\")')\n"
     ]
    },
    {
     "data": {
      "text/plain": [
       "[]"
      ]
     },
     "execution_count": 2,
     "metadata": {},
     "output_type": "execute_result"
    }
   ],
   "source": [
    "get_ticker_data(\"^SPX\")[1]"
   ]
  },
  {
   "cell_type": "code",
   "execution_count": 3,
   "metadata": {},
   "outputs": [
    {
     "name": "stdout",
     "output_type": "stream",
     "text": [
      "YF.download() has changed argument auto_adjust default to TrueYF.download() has changed argument auto_adjust default to TrueYF.download() has changed argument auto_adjust default to True"
     ]
    },
    {
     "name": "stderr",
     "output_type": "stream",
     "text": [
      "Fetching stock data:   0%|          | 0/503 [00:00<?, ?it/s]"
     ]
    },
    {
     "name": "stdout",
     "output_type": "stream",
     "text": [
      "YF.download() has changed argument auto_adjust default to TrueYF.download() has changed argument auto_adjust default to TrueYF.download() has changed argument auto_adjust default to True\n",
      "YF.download() has changed argument auto_adjust default to True\n",
      "YF.download() has changed argument auto_adjust default to TrueYF.download() has changed argument auto_adjust default to TrueYF.download() has changed argument auto_adjust default to TrueYF.download() has changed argument auto_adjust default to True\n",
      "YF.download() has changed argument auto_adjust default to TrueYF.download() has changed argument auto_adjust default to TrueYF.download() has changed argument auto_adjust default to TrueYF.download() has changed argument auto_adjust default to True\n",
      "\n",
      "\n",
      "\n",
      "YF.download() has changed argument auto_adjust default to True\n",
      "\n",
      "YF.download() has changed argument auto_adjust default to True\n",
      "\n",
      "YF.download() has changed argument auto_adjust default to True\n",
      "YF.download() has changed argument auto_adjust default to True\n",
      "YF.download() has changed argument auto_adjust default to True\n",
      "\n",
      "\n",
      "\n",
      "\n",
      "\n",
      "\n"
     ]
    },
    {
     "name": "stderr",
     "output_type": "stream",
     "text": [
      "Fetching stock data:   1%|          | 3/503 [00:16<38:39,  4.64s/it]  \n",
      "1 Failed download:\n",
      "['BF.B']: YFPricesMissingError('possibly delisted; no price data found  (1d 2024-11-11 -> 2025-03-16)')\n",
      "Fetching stock data:   1%|          | 4/503 [00:19<32:12,  3.87s/it]\n",
      "1 Failed download:\n",
      "['BRK.B']: YFTzMissingError('possibly delisted; no timezone found')\n",
      "Fetching stock data:  12%|█▏        | 61/503 [00:41<03:43,  1.98it/s]\n",
      "1 Failed download:\n",
      "['HWM']: YFPricesMissingError('possibly delisted; no price data found  (1d 2024-11-11 -> 2025-03-16)')\n",
      "Fetching stock data: 100%|██████████| 503/503 [00:44<00:00, 11.25it/s]\n"
     ]
    }
   ],
   "source": [
    "tickers = sp500_tickers['Symbol'].to_list()\n",
    "stock_data = parallelize_fetch(tickers, read_cache=False)"
   ]
  },
  {
   "cell_type": "code",
   "execution_count": null,
   "metadata": {},
   "outputs": [],
   "source": []
  },
  {
   "cell_type": "code",
   "execution_count": null,
   "metadata": {},
   "outputs": [
    {
     "data": {
      "text/plain": [
       "False"
      ]
     },
     "execution_count": 13,
     "metadata": {},
     "output_type": "execute_result"
    }
   ],
   "source": [
    "\n",
    "\n"
   ]
  },
  {
   "cell_type": "code",
   "execution_count": 14,
   "metadata": {},
   "outputs": [],
   "source": [
    "from copy import deepcopy\n",
    "ticker_data = deepcopy(stock_data)\n",
    "true_size = len(ticker_data['AAPL'])"
   ]
  },
  {
   "cell_type": "code",
   "execution_count": 15,
   "metadata": {},
   "outputs": [],
   "source": [
    "for k, item in stock_data.items():\n",
    "    if len(item) != true_size:\n",
    "        del ticker_data[k]\n"
   ]
  },
  {
   "cell_type": "code",
   "execution_count": 16,
   "metadata": {},
   "outputs": [],
   "source": [
    "with open('stock_data.pkl', 'wb') as f:\n",
    "    pickle.dump(ticker_data, f)"
   ]
  },
  {
   "cell_type": "code",
   "execution_count": 17,
   "metadata": {},
   "outputs": [
    {
     "ename": "KeyError",
     "evalue": "'BRK.B'",
     "output_type": "error",
     "traceback": [
      "\u001b[31m---------------------------------------------------------------------------\u001b[39m",
      "\u001b[31mKeyError\u001b[39m                                  Traceback (most recent call last)",
      "\u001b[36mCell\u001b[39m\u001b[36m \u001b[39m\u001b[32mIn[17]\u001b[39m\u001b[32m, line 1\u001b[39m\n\u001b[32m----> \u001b[39m\u001b[32m1\u001b[39m \u001b[43mticker_data\u001b[49m\u001b[43m[\u001b[49m\u001b[33;43m'\u001b[39;49m\u001b[33;43mBRK.B\u001b[39;49m\u001b[33;43m'\u001b[39;49m\u001b[43m]\u001b[49m\n",
      "\u001b[31mKeyError\u001b[39m: 'BRK.B'"
     ]
    }
   ],
   "source": [
    "ticker_data['BRK.B']"
   ]
  },
  {
   "cell_type": "code",
   "execution_count": 13,
   "metadata": {},
   "outputs": [
    {
     "data": {
      "text/html": [
       "<div><style>\n",
       ".dataframe > thead > tr,\n",
       ".dataframe > tbody > tr {\n",
       "  text-align: right;\n",
       "  white-space: pre-wrap;\n",
       "}\n",
       "</style>\n",
       "<small>shape: (501, 3)</small><table border=\"1\" class=\"dataframe\"><thead><tr><th>ticker</th><th>intercept</th><th>slope</th></tr><tr><td>str</td><td>f64</td><td>f64</td></tr></thead><tbody><tr><td>&quot;PLTR&quot;</td><td>4.122832</td><td>0.005724</td></tr><tr><td>&quot;TPR&quot;</td><td>3.997874</td><td>0.005517</td></tr><tr><td>&quot;SMCI&quot;</td><td>3.311999</td><td>0.005421</td></tr><tr><td>&quot;VRSN&quot;</td><td>5.184917</td><td>0.003654</td></tr><tr><td>&quot;WBA&quot;</td><td>2.16494</td><td>0.003251</td></tr><tr><td>&hellip;</td><td>&hellip;</td><td>&hellip;</td></tr><tr><td>&quot;STZ&quot;</td><td>5.529787</td><td>-0.005275</td></tr><tr><td>&quot;FMC&quot;</td><td>4.120382</td><td>-0.005733</td></tr><tr><td>&quot;LW&quot;</td><td>4.410076</td><td>-0.005908</td></tr><tr><td>&quot;ON&quot;</td><td>4.314978</td><td>-0.005959</td></tr><tr><td>&quot;EIX&quot;</td><td>4.527642</td><td>-0.007808</td></tr></tbody></table></div>"
      ],
      "text/plain": [
       "shape: (501, 3)\n",
       "┌────────┬───────────┬───────────┐\n",
       "│ ticker ┆ intercept ┆ slope     │\n",
       "│ ---    ┆ ---       ┆ ---       │\n",
       "│ str    ┆ f64       ┆ f64       │\n",
       "╞════════╪═══════════╪═══════════╡\n",
       "│ PLTR   ┆ 4.122832  ┆ 0.005724  │\n",
       "│ TPR    ┆ 3.997874  ┆ 0.005517  │\n",
       "│ SMCI   ┆ 3.311999  ┆ 0.005421  │\n",
       "│ VRSN   ┆ 5.184917  ┆ 0.003654  │\n",
       "│ WBA    ┆ 2.16494   ┆ 0.003251  │\n",
       "│ …      ┆ …         ┆ …         │\n",
       "│ STZ    ┆ 5.529787  ┆ -0.005275 │\n",
       "│ FMC    ┆ 4.120382  ┆ -0.005733 │\n",
       "│ LW     ┆ 4.410076  ┆ -0.005908 │\n",
       "│ ON     ┆ 4.314978  ┆ -0.005959 │\n",
       "│ EIX    ┆ 4.527642  ┆ -0.007808 │\n",
       "└────────┴───────────┴───────────┘"
      ]
     },
     "execution_count": 13,
     "metadata": {},
     "output_type": "execute_result"
    }
   ],
   "source": [
    "import numpy as np\n",
    "import statsmodels.api as sm\n",
    "def regress (ticker: str, y: np.ndarray,X: np.ndarray, intercept=True):\n",
    "    if intercept:\n",
    "        X = np.column_stack((np.ones(X.shape[0]), X)) \n",
    "    model = sm.OLS(y, X).fit()\n",
    "    return {'ticker': ticker,'intercept': model.params[0], 'slope': model.params[1]}\n",
    "\n",
    "def get_regression_data (ticker):\n",
    "    y = np.log(pl.DataFrame(ticker_data[ticker][1:])['close_price'].to_numpy())\n",
    "    x = np.array(range(1, len(y)+1))\n",
    "\n",
    "    return regress(ticker, y, x)\n",
    "\n",
    "regression_data = pl.DataFrame([get_regression_data(ticker) for ticker in ticker_data.keys()]).sort('slope', descending=True)\n",
    "regression_data"
   ]
  },
  {
   "cell_type": "code",
   "execution_count": 14,
   "metadata": {},
   "outputs": [],
   "source": [
    "import numpy as np\n",
    "import statistics\n",
    "\n",
    "def construct_momentum_factor(data, formation_days=30, top_quantile=0.70, bottom_quantile=0.30, initial_value=100):\n",
    "    \"\"\"\n",
    "    Constructs a momentum factor time series.\n",
    "    \n",
    "    Parameters:\n",
    "        data (dict): Dictionary with tickers as keys and a list of daily dicts as values.\n",
    "                     Each dict must include 'date', 'close_price', and 'returns'.\n",
    "        formation_days (int): Look-back period to compute cumulative returns.\n",
    "        top_quantile (float): Quantile threshold for winner group.\n",
    "        bottom_quantile (float): Quantile threshold for loser group.\n",
    "        initial_value (float): Starting value for the momentum factor portfolio.\n",
    "    \n",
    "    Returns:\n",
    "        list of dict: Each dict has keys 'date', 'close_price' (momentum factor portfolio value),\n",
    "                      and 'returns' (momentum factor return for that day).\n",
    "    \"\"\"\n",
    "    # Assume all tickers have the same dates; pick one to get the date series.\n",
    "    sample_ticker = next(iter(data))\n",
    "    dates = [record['date'] for record in data[sample_ticker]]\n",
    "    n_days = len(dates)\n",
    "    \n",
    "    momentum_series = []\n",
    "    momentum_value = initial_value  # starting portfolio value\n",
    "    \n",
    "    # Loop over days from formation_days to end (each day is a holding period day)\n",
    "    for t in tqdm(range(formation_days, n_days)):\n",
    "        formation_returns = {}\n",
    "        \n",
    "        # Compute cumulative formation return for each ticker over the past formation_days\n",
    "        for ticker, records in data.items():\n",
    "            # Extract returns for the formation window: days [t-formation_days, t)\n",
    "            window_returns = [rec['returns'] for rec in records[t-formation_days:t]]\n",
    "            # Cumulative return: product of (1+return) minus 1\n",
    "            cum_return = np.prod([1 + r for r in window_returns]) - 1\n",
    "            formation_returns[ticker] = cum_return\n",
    "        \n",
    "        # Get list of formation returns to compute quantile thresholds\n",
    "        formation_vals = list(formation_returns.values())\n",
    "        winners_threshold = np.quantile(formation_vals, top_quantile)\n",
    "        losers_threshold  = np.quantile(formation_vals, bottom_quantile)\n",
    "        \n",
    "        # Identify winners and losers based on the thresholds\n",
    "        winners = [ticker for ticker, ret in formation_returns.items() if ret >= winners_threshold]\n",
    "        losers  = [ticker for ticker, ret in formation_returns.items() if ret <= losers_threshold]\n",
    "        \n",
    "        # Calculate next-day returns for each ticker on day t\n",
    "        winners_returns = []\n",
    "        losers_returns = []\n",
    "        for ticker, records in data.items():\n",
    "            ret = records[t]['returns']\n",
    "            if ticker in winners:\n",
    "                winners_returns.append(ret)\n",
    "            if ticker in losers:\n",
    "                losers_returns.append(ret)\n",
    "        # Handle potential edge cases if no tickers in group\n",
    "        if winners_returns and losers_returns:\n",
    "            avg_winners = statistics.mean(winners_returns)\n",
    "            avg_losers  = statistics.mean(losers_returns)\n",
    "            momentum_ret = avg_winners - avg_losers\n",
    "        else:\n",
    "            momentum_ret = 0.0\n",
    "        \n",
    "        # Update the momentum factor portfolio value\n",
    "        momentum_value *= (1 + momentum_ret)\n",
    "        \n",
    "        momentum_series.append({\n",
    "            'date': dates[t],\n",
    "            'close_price': momentum_value,\n",
    "            'returns': momentum_ret\n",
    "        })\n",
    "    \n",
    "    return momentum_series\n",
    "\n"
   ]
  },
  {
   "cell_type": "code",
   "execution_count": 15,
   "metadata": {},
   "outputs": [
    {
     "name": "stderr",
     "output_type": "stream",
     "text": [
      "100%|██████████| 54/54 [00:00<00:00, 126.83it/s]\n"
     ]
    }
   ],
   "source": [
    "from tqdm import tqdm\n",
    "momentum_factor = construct_momentum_factor(ticker_data, formation_days=30, top_quantile=0.70, bottom_quantile=0.30, initial_value=100)"
   ]
  },
  {
   "cell_type": "code",
   "execution_count": 18,
   "metadata": {},
   "outputs": [
    {
     "name": "stdout",
     "output_type": "stream",
     "text": [
      "YF.download() has changed argument auto_adjust default to True\n"
     ]
    }
   ],
   "source": [
    "from datetime import date as D\n",
    "market_factor = fetch_stock_data('^SPX',  end_date=D(2021,1,1))\n",
    "spx = pl.DataFrame(market_factor)\n",
    "spx =spx.with_columns(pl.col('close_price').rolling_mean(100).alias('100DayMA')).drop_nulls()[-100:]"
   ]
  },
  {
   "cell_type": "code",
   "execution_count": 21,
   "metadata": {},
   "outputs": [],
   "source": [
    "df = pl.DataFrame(momentum_factor)\n",
    "df = df.filter(pl.col('date').is_in(df['date'])).with_columns(pl.col('close_price')/df['close_price'][0]*100)\n",
    "df_1 = pl.DataFrame(market_factor)\n",
    "df_1 = df_1.filter(pl.col('date').is_in(df['date'])).with_columns(pl.col('close_price')/df_1['close_price'][0]*100)"
   ]
  },
  {
   "cell_type": "code",
   "execution_count": 23,
   "metadata": {},
   "outputs": [
    {
     "data": {
      "text/plain": [
       "[<matplotlib.lines.Line2D at 0x742b9e07fc50>]"
      ]
     },
     "execution_count": 23,
     "metadata": {},
     "output_type": "execute_result"
    },
    {
     "data": {
      "image/png": "[encoded data removed]",
      "text/plain": [
       "<Figure size 640x480 with 1 Axes>"
      ]
     },
     "metadata": {},
     "output_type": "display_data"
    }
   ],
   "source": [
    "import polars as pl\n",
    "import matplotlib.pyplot as plt\n",
    "\n",
    "plt.plot(df['date'], df['close_price'].to_numpy())\n",
    "plt.plot(df_1['date'], df_1['close_price'].to_numpy())"
   ]
  },
  {
   "cell_type": "code",
   "execution_count": 24,
   "metadata": {},
   "outputs": [],
   "source": [
    "def get_factor_betas(ticker_str, ticker_returns, factor_dict):   \n",
    "    # Prepare design matrix from factor returns.\n",
    "    factor_names = list(factor_dict.keys())\n",
    "    factors = np.column_stack([factor_dict[f] for f in factor_names])\n",
    "    \n",
    "    # Add constant for the intercept.\n",
    "    X = sm.add_constant(factors)\n",
    "    y = ticker_returns\n",
    "    \n",
    "    # Run the OLS regression.\n",
    "    model = sm.OLS(y, X).fit()\n",
    "    \n",
    "    # Initialize betas dictionary with the intercept labeled as ALPHA.\n",
    "    betas = {\n",
    "        \"ALPHA\": {\n",
    "            \"factor\": \"ALPHA\",\n",
    "            \"coefficient\": model.params[0],\n",
    "            \"pval\": model.pvalues[0]\n",
    "        }\n",
    "    }\n",
    "    \n",
    "    # Append betas for the other factors.\n",
    "    for i, factor in enumerate(factor_names, start=1):\n",
    "        betas[factor] = {\n",
    "            \"factor\": factor,\n",
    "            \"coefficient\": model.params[i],\n",
    "            \"pval\": model.pvalues[i]\n",
    "        }\n",
    "    \n",
    "    return {\n",
    "        ticker_str: {\n",
    "            \"betas\": betas,\n",
    "            \"residual_vector\": model.resid\n",
    "        }\n",
    "    }"
   ]
  },
  {
   "cell_type": "code",
   "execution_count": null,
   "metadata": {},
   "outputs": [],
   "source": []
  },
  {
   "cell_type": "code",
   "execution_count": 25,
   "metadata": {},
   "outputs": [
    {
     "data": {
      "text/html": [
       "<div><style>\n",
       ".dataframe > thead > tr,\n",
       ".dataframe > tbody > tr {\n",
       "  text-align: right;\n",
       "  white-space: pre-wrap;\n",
       "}\n",
       "</style>\n",
       "<small>shape: (100, 4)</small><table border=\"1\" class=\"dataframe\"><thead><tr><th>date</th><th>close_price</th><th>returns</th><th>100DayMA</th></tr><tr><td>date</td><td>f64</td><td>f64</td><td>f64</td></tr></thead><tbody><tr><td>2024-10-16</td><td>5842.470215</td><td>0.004679</td><td>5532.814692</td></tr><tr><td>2024-10-17</td><td>5841.470215</td><td>-0.000171</td><td>5538.182192</td></tr><tr><td>2024-10-18</td><td>5864.669922</td><td>0.003972</td><td>5543.768491</td></tr><tr><td>2024-10-21</td><td>5853.97998</td><td>-0.001823</td><td>5549.638789</td></tr><tr><td>2024-10-22</td><td>5851.200195</td><td>-0.000475</td><td>5555.795991</td></tr><tr><td>&hellip;</td><td>&hellip;</td><td>&hellip;</td><td>&hellip;</td></tr><tr><td>2025-03-06</td><td>5738.52002</td><td>-0.017819</td><td>5954.767793</td></tr><tr><td>2025-03-07</td><td>5770.200195</td><td>0.005521</td><td>5954.669297</td></tr><tr><td>2025-03-10</td><td>5614.560059</td><td>-0.026973</td><td>5952.6646</td></tr><tr><td>2025-03-11</td><td>5572.069824</td><td>-0.007568</td><td>5949.786797</td></tr><tr><td>2025-03-12</td><td>5599.299805</td><td>0.004887</td><td>5947.627197</td></tr></tbody></table></div>"
      ],
      "text/plain": [
       "shape: (100, 4)\n",
       "┌────────────┬─────────────┬───────────┬─────────────┐\n",
       "│ date       ┆ close_price ┆ returns   ┆ 100DayMA    │\n",
       "│ ---        ┆ ---         ┆ ---       ┆ ---         │\n",
       "│ date       ┆ f64         ┆ f64       ┆ f64         │\n",
       "╞════════════╪═════════════╪═══════════╪═════════════╡\n",
       "│ 2024-10-16 ┆ 5842.470215 ┆ 0.004679  ┆ 5532.814692 │\n",
       "│ 2024-10-17 ┆ 5841.470215 ┆ -0.000171 ┆ 5538.182192 │\n",
       "│ 2024-10-18 ┆ 5864.669922 ┆ 0.003972  ┆ 5543.768491 │\n",
       "│ 2024-10-21 ┆ 5853.97998  ┆ -0.001823 ┆ 5549.638789 │\n",
       "│ 2024-10-22 ┆ 5851.200195 ┆ -0.000475 ┆ 5555.795991 │\n",
       "│ …          ┆ …           ┆ …         ┆ …           │\n",
       "│ 2025-03-06 ┆ 5738.52002  ┆ -0.017819 ┆ 5954.767793 │\n",
       "│ 2025-03-07 ┆ 5770.200195 ┆ 0.005521  ┆ 5954.669297 │\n",
       "│ 2025-03-10 ┆ 5614.560059 ┆ -0.026973 ┆ 5952.6646   │\n",
       "│ 2025-03-11 ┆ 5572.069824 ┆ -0.007568 ┆ 5949.786797 │\n",
       "│ 2025-03-12 ┆ 5599.299805 ┆ 0.004887  ┆ 5947.627197 │\n",
       "└────────────┴─────────────┴───────────┴─────────────┘"
      ]
     },
     "execution_count": 25,
     "metadata": {},
     "output_type": "execute_result"
    }
   ],
   "source": [
    "spx"
   ]
  },
  {
   "cell_type": "code",
   "execution_count": 30,
   "metadata": {},
   "outputs": [
    {
     "data": {
      "text/plain": [
       "[<matplotlib.lines.Line2D at 0x742b94643b10>]"
      ]
     },
     "execution_count": 30,
     "metadata": {},
     "output_type": "execute_result"
    },
    {
     "data": {
      "image/png": "[encoded data removed]",
      "text/plain": [
       "<Figure size 640x480 with 1 Axes>"
      ]
     },
     "metadata": {},
     "output_type": "display_data"
    }
   ],
   "source": [
    "plt.plot(spx['date'], spx['close_price'])\n",
    "plt.plot(spx['date'], spx['100DayMA'])\n",
    "plt.plot(spx['date'], spx['close_price'].ewm_mean(alpha=0.05))"
   ]
  },
  {
   "cell_type": "code",
   "execution_count": 65,
   "metadata": {},
   "outputs": [
    {
     "data": {
      "text/html": [
       "<div><style>\n",
       ".dataframe > thead > tr,\n",
       ".dataframe > tbody > tr {\n",
       "  text-align: right;\n",
       "  white-space: pre-wrap;\n",
       "}\n",
       "</style>\n",
       "<small>shape: (84, 3)</small><table border=\"1\" class=\"dataframe\"><thead><tr><th>date</th><th>close_price</th><th>returns</th></tr><tr><td>date</td><td>f64</td><td>f64</td></tr></thead><tbody><tr><td>2024-10-28</td><td>80.034836</td><td>0.0</td></tr><tr><td>2024-10-29</td><td>80.005051</td><td>-0.000372</td></tr><tr><td>2024-10-30</td><td>80.283081</td><td>0.003475</td></tr><tr><td>2024-10-31</td><td>80.084488</td><td>-0.002474</td></tr><tr><td>2024-11-01</td><td>80.044769</td><td>-0.000496</td></tr><tr><td>&hellip;</td><td>&hellip;</td><td>&hellip;</td></tr><tr><td>2025-02-24</td><td>82.720001</td><td>0.000726</td></tr><tr><td>2025-02-25</td><td>82.690002</td><td>-0.000363</td></tr><tr><td>2025-02-26</td><td>82.620003</td><td>-0.000847</td></tr><tr><td>2025-02-27</td><td>82.5</td><td>-0.001452</td></tr><tr><td>2025-02-28</td><td>82.900002</td><td>0.004849</td></tr></tbody></table></div>"
      ],
      "text/plain": [
       "shape: (84, 3)\n",
       "┌────────────┬─────────────┬───────────┐\n",
       "│ date       ┆ close_price ┆ returns   │\n",
       "│ ---        ┆ ---         ┆ ---       │\n",
       "│ date       ┆ f64         ┆ f64       │\n",
       "╞════════════╪═════════════╪═══════════╡\n",
       "│ 2024-10-28 ┆ 80.034836   ┆ 0.0       │\n",
       "│ 2024-10-29 ┆ 80.005051   ┆ -0.000372 │\n",
       "│ 2024-10-30 ┆ 80.283081   ┆ 0.003475  │\n",
       "│ 2024-10-31 ┆ 80.084488   ┆ -0.002474 │\n",
       "│ 2024-11-01 ┆ 80.044769   ┆ -0.000496 │\n",
       "│ …          ┆ …           ┆ …         │\n",
       "│ 2025-02-24 ┆ 82.720001   ┆ 0.000726  │\n",
       "│ 2025-02-25 ┆ 82.690002   ┆ -0.000363 │\n",
       "│ 2025-02-26 ┆ 82.620003   ┆ -0.000847 │\n",
       "│ 2025-02-27 ┆ 82.5        ┆ -0.001452 │\n",
       "│ 2025-02-28 ┆ 82.900002   ┆ 0.004849  │\n",
       "└────────────┴─────────────┴───────────┘"
      ]
     },
     "execution_count": 65,
     "metadata": {},
     "output_type": "execute_result"
    }
   ],
   "source": [
    "pl.DataFrame(ticker_data['K'])"
   ]
  },
  {
   "cell_type": "code",
   "execution_count": 63,
   "metadata": {},
   "outputs": [
    {
     "data": {
      "text/plain": [
       "[<matplotlib.lines.Line2D at 0x7320c37996d0>]"
      ]
     },
     "execution_count": 63,
     "metadata": {},
     "output_type": "execute_result"
    },
    {
     "data": {
      "image/png": "[encoded data removed]",
      "text/plain": [
       "<Figure size 640x480 with 1 Axes>"
      ]
     },
     "metadata": {},
     "output_type": "display_data"
    }
   ],
   "source": [
    "\n",
    "gild = pl.DataFrame(ticker_data['K'])\n",
    "gild = gild.with_columns(pl.col('close_price')/gild['close_price'][0]*100).with_columns(pl.col('close_price')/df_1['close_price'][0]*100)\n",
    "df_1 = pl.DataFrame(market_factor)\n",
    "df_1 = df_1.filter(pl.col('date').is_in(df_1['date'])).with_columns(pl.col('close_price')/df_1['close_price'][0]*100)\n",
    "plt.plot(df_1['date'], df_1['close_price'])\n",
    "plt.plot(gild['date'], gild['close_price'])"
   ]
  },
  {
   "cell_type": "code",
   "execution_count": 64,
   "metadata": {},
   "outputs": [
    {
     "data": {
      "text/plain": [
       "array([[1.        , 0.27678125],\n",
       "       [0.27678125, 1.        ]])"
      ]
     },
     "execution_count": 64,
     "metadata": {},
     "output_type": "execute_result"
    }
   ],
   "source": [
    "np.corrcoef(df_1['close_price'].to_numpy(), gild['close_price'].to_numpy())"
   ]
  },
  {
   "cell_type": "code",
   "execution_count": 31,
   "metadata": {},
   "outputs": [
    {
     "name": "stderr",
     "output_type": "stream",
     "text": [
      "100%|██████████| 501/501 [00:00<00:00, 638.33it/s]\n"
     ]
    }
   ],
   "source": [
    "def get_betas (ticker):    \n",
    "    pltr = pl.DataFrame(ticker_data[ticker]).filter(pl.col('date').is_in(df['date']))\n",
    "    ticker_returns = pltr['returns'].to_numpy()\n",
    "    factor_dict = {\n",
    "        'MARKET': df_1['returns'].to_numpy(),\n",
    "        'MOMENTUM': df['returns'].to_numpy()\n",
    "    }\n",
    "    result = get_factor_betas(ticker, ticker_returns, factor_dict)\n",
    "    return result\n",
    "\n",
    "\n",
    "\n",
    "# Example usage\n",
    "tickers = list(ticker_data.keys())\n",
    "beta_results = [get_betas(ticker) for ticker in tqdm(tickers)]"
   ]
  },
  {
   "cell_type": "code",
   "execution_count": 32,
   "metadata": {},
   "outputs": [],
   "source": [
    "def flatten_dict(nested_dict):\n",
    "    result = {}\n",
    "    \n",
    "    for ticker, data in nested_dict.items():\n",
    "        betas = data['betas']\n",
    "        result.update({\n",
    "            'ticker': ticker,\n",
    "            'alpha': betas['ALPHA']['coefficient'],\n",
    "            'alpha_pval': betas['ALPHA']['pval'],\n",
    "            'market_beta': betas['MARKET']['coefficient'],\n",
    "            'market_pval': betas['MARKET']['pval'],\n",
    "            'momentum_beta': betas['MOMENTUM']['coefficient'],\n",
    "            'momentum_pval': betas['MOMENTUM']['pval']\n",
    "        })\n",
    "    return result\n",
    "\n",
    "beta_results_f = pl.DataFrame([flatten_dict(d) for d in beta_results])"
   ]
  },
  {
   "cell_type": "code",
   "execution_count": 33,
   "metadata": {},
   "outputs": [
    {
     "data": {
      "text/html": [
       "<div><style>\n",
       ".dataframe > thead > tr,\n",
       ".dataframe > tbody > tr {\n",
       "  text-align: right;\n",
       "  white-space: pre-wrap;\n",
       "}\n",
       "</style>\n",
       "<small>shape: (5, 7)</small><table border=\"1\" class=\"dataframe\"><thead><tr><th>ticker</th><th>alpha</th><th>alpha_pval</th><th>market_beta</th><th>market_pval</th><th>momentum_beta</th><th>momentum_pval</th></tr><tr><td>str</td><td>f64</td><td>f64</td><td>f64</td><td>f64</td><td>f64</td><td>f64</td></tr></thead><tbody><tr><td>&quot;CVS&quot;</td><td>0.008104</td><td>0.032182</td><td>0.583854</td><td>0.131678</td><td>-0.291882</td><td>0.487528</td></tr><tr><td>&quot;VRTX&quot;</td><td>0.004582</td><td>0.033968</td><td>0.320257</td><td>0.147569</td><td>0.092677</td><td>0.699241</td></tr><tr><td>&quot;GILD&quot;</td><td>0.004535</td><td>0.043773</td><td>0.170895</td><td>0.455344</td><td>0.133194</td><td>0.594748</td></tr><tr><td>&quot;ABBV&quot;</td><td>0.004072</td><td>0.040098</td><td>-0.038285</td><td>0.84909</td><td>-0.118926</td><td>0.589891</td></tr><tr><td>&quot;K&quot;</td><td>0.00062</td><td>0.01985</td><td>0.02599</td><td>0.334702</td><td>0.028849</td><td>0.328282</td></tr></tbody></table></div>"
      ],
      "text/plain": [
       "shape: (5, 7)\n",
       "┌────────┬──────────┬────────────┬─────────────┬─────────────┬───────────────┬───────────────┐\n",
       "│ ticker ┆ alpha    ┆ alpha_pval ┆ market_beta ┆ market_pval ┆ momentum_beta ┆ momentum_pval │\n",
       "│ ---    ┆ ---      ┆ ---        ┆ ---         ┆ ---         ┆ ---           ┆ ---           │\n",
       "│ str    ┆ f64      ┆ f64        ┆ f64         ┆ f64         ┆ f64           ┆ f64           │\n",
       "╞════════╪══════════╪════════════╪═════════════╪═════════════╪═══════════════╪═══════════════╡\n",
       "│ CVS    ┆ 0.008104 ┆ 0.032182   ┆ 0.583854    ┆ 0.131678    ┆ -0.291882     ┆ 0.487528      │\n",
       "│ VRTX   ┆ 0.004582 ┆ 0.033968   ┆ 0.320257    ┆ 0.147569    ┆ 0.092677      ┆ 0.699241      │\n",
       "│ GILD   ┆ 0.004535 ┆ 0.043773   ┆ 0.170895    ┆ 0.455344    ┆ 0.133194      ┆ 0.594748      │\n",
       "│ ABBV   ┆ 0.004072 ┆ 0.040098   ┆ -0.038285   ┆ 0.84909     ┆ -0.118926     ┆ 0.589891      │\n",
       "│ K      ┆ 0.00062  ┆ 0.01985    ┆ 0.02599     ┆ 0.334702    ┆ 0.028849      ┆ 0.328282      │\n",
       "└────────┴──────────┴────────────┴─────────────┴─────────────┴───────────────┴───────────────┘"
      ]
     },
     "execution_count": 33,
     "metadata": {},
     "output_type": "execute_result"
    }
   ],
   "source": [
    "beta_results_f.sort('alpha', descending=True).filter((pl.col('alpha_pval') < 0.05) & (pl.col('market_beta')<1) & (pl.col('market_pval')>0.05))"
   ]
  },
  {
   "cell_type": "code",
   "execution_count": 36,
   "metadata": {},
   "outputs": [
    {
     "data": {
      "text/html": [
       "<div><style>\n",
       ".dataframe > thead > tr,\n",
       ".dataframe > tbody > tr {\n",
       "  text-align: right;\n",
       "  white-space: pre-wrap;\n",
       "}\n",
       "</style>\n",
       "<small>shape: (501, 7)</small><table border=\"1\" class=\"dataframe\"><thead><tr><th>ticker</th><th>alpha</th><th>alpha_pval</th><th>market_beta</th><th>market_pval</th><th>momentum_beta</th><th>momentum_pval</th></tr><tr><td>str</td><td>f64</td><td>f64</td><td>f64</td><td>f64</td><td>f64</td><td>f64</td></tr></thead><tbody><tr><td>&quot;CEG&quot;</td><td>0.004116</td><td>0.588652</td><td>2.114945</td><td>0.009377</td><td>1.721871</td><td>0.050037</td></tr><tr><td>&quot;VST&quot;</td><td>0.003944</td><td>0.585495</td><td>3.387849</td><td>0.000033</td><td>1.528263</td><td>0.066527</td></tr><tr><td>&quot;ANET&quot;</td><td>-0.001442</td><td>0.770298</td><td>2.764762</td><td>0.000002</td><td>1.066071</td><td>0.0614</td></tr><tr><td>&quot;ORCL&quot;</td><td>0.001432</td><td>0.651783</td><td>2.472257</td><td>6.9124e-10</td><td>1.0286</td><td>0.005881</td></tr><tr><td>&quot;GEV&quot;</td><td>0.002459</td><td>0.621327</td><td>3.034865</td><td>2.7108e-7</td><td>0.992691</td><td>0.082909</td></tr><tr><td>&hellip;</td><td>&hellip;</td><td>&hellip;</td><td>&hellip;</td><td>&hellip;</td><td>&hellip;</td><td>&hellip;</td></tr><tr><td>&quot;NOW&quot;</td><td>-0.003875</td><td>0.19161</td><td>1.242542</td><td>0.00015</td><td>-0.875199</td><td>0.011123</td></tr><tr><td>&quot;CE&quot;</td><td>-0.003915</td><td>0.49061</td><td>0.453099</td><td>0.441413</td><td>-0.922543</td><td>0.155321</td></tr><tr><td>&quot;INTU&quot;</td><td>-0.001206</td><td>0.664538</td><td>0.833831</td><td>0.005327</td><td>-0.931001</td><td>0.004559</td></tr><tr><td>&quot;WST&quot;</td><td>-0.006231</td><td>0.426127</td><td>-0.615885</td><td>0.447429</td><td>-0.940952</td><td>0.29055</td></tr><tr><td>&quot;TSLA&quot;</td><td>-0.007968</td><td>0.063989</td><td>2.886736</td><td>2.1468e-8</td><td>-1.005087</td><td>0.040207</td></tr></tbody></table></div>"
      ],
      "text/plain": [
       "shape: (501, 7)\n",
       "┌────────┬───────────┬────────────┬─────────────┬─────────────┬───────────────┬───────────────┐\n",
       "│ ticker ┆ alpha     ┆ alpha_pval ┆ market_beta ┆ market_pval ┆ momentum_beta ┆ momentum_pval │\n",
       "│ ---    ┆ ---       ┆ ---        ┆ ---         ┆ ---         ┆ ---           ┆ ---           │\n",
       "│ str    ┆ f64       ┆ f64        ┆ f64         ┆ f64         ┆ f64           ┆ f64           │\n",
       "╞════════╪═══════════╪════════════╪═════════════╪═════════════╪═══════════════╪═══════════════╡\n",
       "│ CEG    ┆ 0.004116  ┆ 0.588652   ┆ 2.114945    ┆ 0.009377    ┆ 1.721871      ┆ 0.050037      │\n",
       "│ VST    ┆ 0.003944  ┆ 0.585495   ┆ 3.387849    ┆ 0.000033    ┆ 1.528263      ┆ 0.066527      │\n",
       "│ ANET   ┆ -0.001442 ┆ 0.770298   ┆ 2.764762    ┆ 0.000002    ┆ 1.066071      ┆ 0.0614        │\n",
       "│ ORCL   ┆ 0.001432  ┆ 0.651783   ┆ 2.472257    ┆ 6.9124e-10  ┆ 1.0286        ┆ 0.005881      │\n",
       "│ GEV    ┆ 0.002459  ┆ 0.621327   ┆ 3.034865    ┆ 2.7108e-7   ┆ 0.992691      ┆ 0.082909      │\n",
       "│ …      ┆ …         ┆ …          ┆ …           ┆ …           ┆ …             ┆ …             │\n",
       "│ NOW    ┆ -0.003875 ┆ 0.19161    ┆ 1.242542    ┆ 0.00015     ┆ -0.875199     ┆ 0.011123      │\n",
       "│ CE     ┆ -0.003915 ┆ 0.49061    ┆ 0.453099    ┆ 0.441413    ┆ -0.922543     ┆ 0.155321      │\n",
       "│ INTU   ┆ -0.001206 ┆ 0.664538   ┆ 0.833831    ┆ 0.005327    ┆ -0.931001     ┆ 0.004559      │\n",
       "│ WST    ┆ -0.006231 ┆ 0.426127   ┆ -0.615885   ┆ 0.447429    ┆ -0.940952     ┆ 0.29055       │\n",
       "│ TSLA   ┆ -0.007968 ┆ 0.063989   ┆ 2.886736    ┆ 2.1468e-8   ┆ -1.005087     ┆ 0.040207      │\n",
       "└────────┴───────────┴────────────┴─────────────┴─────────────┴───────────────┴───────────────┘"
      ]
     },
     "execution_count": 36,
     "metadata": {},
     "output_type": "execute_result"
    }
   ],
   "source": [
    "beta_results_f.sort('momentum_beta', descending=True)"
   ]
  },
  {
   "cell_type": "code",
   "execution_count": null,
   "metadata": {},
   "outputs": [],
   "source": [
    "set(sp500_tickers['GICS Sub-Industry'].unique())"
   ]
  },
  {
   "cell_type": "code",
   "execution_count": null,
   "metadata": {},
   "outputs": [],
   "source": [
    "plt.plot(ts['date'], ts['close_price'].to_numpy())"
   ]
  },
  {
   "cell_type": "code",
   "execution_count": null,
   "metadata": {},
   "outputs": [],
   "source": [
    "from tabulate import tabulate\n",
    "\n",
    "def print_factor_table(data):\n",
    "    rows = []\n",
    "    for ticker, ticker_data in data.items():\n",
    "        for factor_name, factor_data in ticker_data['betas'].items():\n",
    "            rows.append([\n",
    "                ticker,\n",
    "                factor_data['factor'],\n",
    "                round(factor_data['coefficient'], 4),\n",
    "                round(factor_data['pval'], 4)\n",
    "            ])\n",
    "    \n",
    "    headers = [\"Ticker\", \"Factor\", \"Coefficient\", \"p-value\"]\n",
    "    return tabulate(rows, headers=headers, tablefmt=\"grid\")\n",
    "\n"
   ]
  },
  {
   "cell_type": "code",
   "execution_count": null,
   "metadata": {},
   "outputs": [],
   "source": []
  },
  {
   "cell_type": "code",
   "execution_count": null,
   "metadata": {},
   "outputs": [],
   "source": []
  }
 ],
 "metadata": {
  "kernelspec": {
   "display_name": "finance",
   "language": "python",
   "name": "python3"
  },
  "language_info": {
   "codemirror_mode": {
    "name": "ipython",
    "version": 3
   },
   "file_extension": ".py",
   "mimetype": "text/x-python",
   "name": "python",
   "nbconvert_exporter": "python",
   "pygments_lexer": "ipython3",
   "version": "3.13.2"
  }
 },
 "nbformat": 4,
 "nbformat_minor": 2
}
