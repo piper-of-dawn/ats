{
 "cells": [
  {
   "cell_type": "code",
   "execution_count": 2,
   "metadata": {},
   "outputs": [],
   "source": [
    "import requests\n",
    "from functools import lru_cache\n",
    "\n",
    "@lru_cache(maxsize=None)\n",
    "def get_fundamentals (ticker: str):\n",
    "    url =  f\"https://api.polygon.io/vX/reference/financials?ticker={ticker}&order=desc&limit=10&sort=filing_date&apiKey=rUSRgE9fRzojA9paUSE5HhwR8TldoC1m\"\n",
    "    resp = requests.get(url)\n",
    "    if resp.status_code != 200:\n",
    "        print(resp)\n",
    "        raise ValueError(resp)\n",
    "    return resp.json()"
   ]
  },
  {
   "cell_type": "code",
   "execution_count": 3,
   "metadata": {},
   "outputs": [],
   "source": [
    "from yfinance_utils import get_sp500_data\n",
    "df = get_sp500_data()\n",
    "tickers = df['Symbol'].tolist()"
   ]
  },
  {
   "cell_type": "code",
   "execution_count": 4,
   "metadata": {},
   "outputs": [
    {
     "name": "stderr",
     "output_type": "stream",
     "text": [
      " 12%|█▏        | 61/503 [01:15<08:28,  1.15s/it]"
     ]
    },
    {
     "name": "stdout",
     "output_type": "stream",
     "text": [
      "Error processing BRK.B: 'beta'\n"
     ]
    },
    {
     "name": "stderr",
     "output_type": "stream",
     "text": [
      " 15%|█▍        | 75/503 [01:29<07:47,  1.09s/it]"
     ]
    },
    {
     "name": "stdout",
     "output_type": "stream",
     "text": [
      "Error processing BF.B: 'beta'\n"
     ]
    },
    {
     "name": "stderr",
     "output_type": "stream",
     "text": [
      " 22%|██▏       | 109/503 [02:03<05:52,  1.12it/s]"
     ]
    },
    {
     "name": "stdout",
     "output_type": "stream",
     "text": [
      "Error processing CFG: 'beta'\n"
     ]
    },
    {
     "name": "stderr",
     "output_type": "stream",
     "text": [
      " 26%|██▌       | 132/503 [02:20<04:53,  1.26it/s]"
     ]
    },
    {
     "name": "stdout",
     "output_type": "stream",
     "text": [
      "Error processing CSX: 'beta'\n"
     ]
    },
    {
     "name": "stderr",
     "output_type": "stream",
     "text": [
      " 42%|████▏     | 210/503 [03:37<03:47,  1.29it/s]"
     ]
    },
    {
     "name": "stdout",
     "output_type": "stream",
     "text": [
      "Error processing GEV: 'beta'\n"
     ]
    },
    {
     "name": "stderr",
     "output_type": "stream",
     "text": [
      " 54%|█████▎    | 270/503 [04:36<02:34,  1.51it/s]"
     ]
    },
    {
     "name": "stdout",
     "output_type": "stream",
     "text": [
      "Error processing KVUE: 'beta'\n"
     ]
    },
    {
     "name": "stderr",
     "output_type": "stream",
     "text": [
      " 55%|█████▍    | 276/503 [04:41<03:14,  1.17it/s]"
     ]
    },
    {
     "name": "stdout",
     "output_type": "stream",
     "text": [
      "Error processing KMI: 'beta'\n"
     ]
    },
    {
     "name": "stderr",
     "output_type": "stream",
     "text": [
      " 76%|███████▌  | 382/503 [06:24<01:35,  1.26it/s]"
     ]
    },
    {
     "name": "stdout",
     "output_type": "stream",
     "text": [
      "Error processing PLD: 'beta'\n"
     ]
    },
    {
     "name": "stderr",
     "output_type": "stream",
     "text": [
      " 83%|████████▎ | 419/503 [07:00<01:34,  1.12s/it]"
     ]
    },
    {
     "name": "stdout",
     "output_type": "stream",
     "text": [
      "Error processing SOLV: 'beta'\n"
     ]
    },
    {
     "name": "stderr",
     "output_type": "stream",
     "text": [
      " 89%|████████▉ | 447/503 [07:41<02:11,  2.34s/it]"
     ]
    },
    {
     "name": "stdout",
     "output_type": "stream",
     "text": [
      "Error processing TKO: 'beta'\n"
     ]
    },
    {
     "name": "stderr",
     "output_type": "stream",
     "text": [
      " 93%|█████████▎| 468/503 [08:23<01:18,  2.25s/it]"
     ]
    },
    {
     "name": "stdout",
     "output_type": "stream",
     "text": [
      "Error processing VLTO: 'beta'\n"
     ]
    },
    {
     "name": "stderr",
     "output_type": "stream",
     "text": [
      "100%|██████████| 503/503 [09:48<00:00,  1.17s/it]\n"
     ]
    }
   ],
   "source": [
    "import yfinance as yf\n",
    "import pandas as pd\n",
    "from tqdm import tqdm\n",
    "\n",
    "df = pd.DataFrame()\n",
    "\n",
    "def get_beta (ticker):\n",
    "    info = yf.Ticker(ticker).info  \n",
    "    beta = info['beta']\n",
    "    return {\"ticker\": ticker, \"beta\": beta}\n",
    "\n",
    "    \n",
    "from multiprocessing import Pool\n",
    "\n",
    "# with Pool(10) as pool:\n",
    "#     results = list(tqdm(pool.imap(get_beta, tickers), total=len(tickers)))\n",
    "results = []\n",
    "for ticker in tqdm(tickers):\n",
    "    try:\n",
    "        beta = get_beta(ticker)\n",
    "        results.append(beta)\n",
    "    except Exception as e:\n",
    "        print(f\"Error processing {ticker}: {e}\")"
   ]
  },
  {
   "cell_type": "code",
   "execution_count": 11,
   "metadata": {},
   "outputs": [],
   "source": [
    "import polars as pl\n",
    "betas = pl.DataFrame(results)"
   ]
  },
  {
   "cell_type": "code",
   "execution_count": 15,
   "metadata": {},
   "outputs": [
    {
     "data": {
      "text/html": [
       "<div><style>\n",
       ".dataframe > thead > tr,\n",
       ".dataframe > tbody > tr {\n",
       "  text-align: right;\n",
       "  white-space: pre-wrap;\n",
       "}\n",
       "</style>\n",
       "<small>shape: (492, 2)</small><table border=\"1\" class=\"dataframe\"><thead><tr><th>ticker</th><th>beta</th></tr><tr><td>str</td><td>f64</td></tr></thead><tbody><tr><td>&quot;BIIB&quot;</td><td>0.057</td></tr><tr><td>&quot;GIS&quot;</td><td>0.142</td></tr><tr><td>&quot;CPB&quot;</td><td>0.183</td></tr><tr><td>&quot;NOC&quot;</td><td>0.193</td></tr><tr><td>&quot;ED&quot;</td><td>0.255</td></tr><tr><td>&hellip;</td><td>&hellip;</td></tr><tr><td>&quot;CCL&quot;</td><td>2.422</td></tr><tr><td>&quot;TSLA&quot;</td><td>2.58</td></tr><tr><td>&quot;CZR&quot;</td><td>2.675</td></tr><tr><td>&quot;PLTR&quot;</td><td>2.741</td></tr><tr><td>&quot;APA&quot;</td><td>2.745</td></tr></tbody></table></div>"
      ],
      "text/plain": [
       "shape: (492, 2)\n",
       "┌────────┬───────┐\n",
       "│ ticker ┆ beta  │\n",
       "│ ---    ┆ ---   │\n",
       "│ str    ┆ f64   │\n",
       "╞════════╪═══════╡\n",
       "│ BIIB   ┆ 0.057 │\n",
       "│ GIS    ┆ 0.142 │\n",
       "│ CPB    ┆ 0.183 │\n",
       "│ NOC    ┆ 0.193 │\n",
       "│ ED     ┆ 0.255 │\n",
       "│ …      ┆ …     │\n",
       "│ CCL    ┆ 2.422 │\n",
       "│ TSLA   ┆ 2.58  │\n",
       "│ CZR    ┆ 2.675 │\n",
       "│ PLTR   ┆ 2.741 │\n",
       "│ APA    ┆ 2.745 │\n",
       "└────────┴───────┘"
      ]
     },
     "execution_count": 15,
     "metadata": {},
     "output_type": "execute_result"
    }
   ],
   "source": [
    "\n",
    "betas.sort('beta', descending=False)"
   ]
  },
  {
   "cell_type": "code",
   "execution_count": null,
   "metadata": {},
   "outputs": [],
   "source": []
  }
 ],
 "metadata": {
  "kernelspec": {
   "display_name": "Python 3",
   "language": "python",
   "name": "python3"
  },
  "language_info": {
   "codemirror_mode": {
    "name": "ipython",
    "version": 3
   },
   "file_extension": ".py",
   "mimetype": "text/x-python",
   "name": "python",
   "nbconvert_exporter": "python",
   "pygments_lexer": "ipython3",
   "version": "3.13.3"
  }
 },
 "nbformat": 4,
 "nbformat_minor": 2
}
