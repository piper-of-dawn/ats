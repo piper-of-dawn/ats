{
 "cells": [
  {
   "cell_type": "code",
   "execution_count": null,
   "metadata": {},
   "outputs": [],
   "source": [
    "from ticker import Ticker, perform_regression\n",
    "from yfinance_utils import fetch_stock_data, get_sp500_data, parallelize_fetch\n",
    "from tqdm import tqdm\n",
    "import polars as pl\n",
    "import numpy as np\n"
   ]
  },
  {
   "cell_type": "code",
   "execution_count": null,
   "metadata": {},
   "outputs": [],
   "source": [
    "import pickle\n",
    "from multiprocessing import Pool\n",
    "from datetime import date \n",
    "\n",
    "def get_ticker_data(ticker):\n",
    "    return ticker, fetch_stock_data(ticker, start_date='2022-01-01', end_date=date.today().strftime('%Y-%m-%d'))\n",
    "\n",
    "\n",
    "def parallelize_fetch(tickers, output_file='stock_data.pkl', read_cache=False):\n",
    "    if read_cache:\n",
    "        with open(output_file, 'rb') as f:\n",
    "            return pickle.load(f)\n",
    "    else:\n",
    "        with Pool() as pool:\n",
    "            results = dict(list(tqdm(\n",
    "                pool.imap(get_ticker_data, tickers),\n",
    "                total=len(tickers),\n",
    "                desc=\"Fetching stock data\"\n",
    "            )))\n",
    "\n",
    "        \n",
    "        with open(output_file, 'wb') as f:\n",
    "            pickle.dump(results, f)\n",
    "    \n",
    "    return results\n",
    "\n",
    "sp500 = get_sp500_data()['Symbol'].to_list() + ['^SPX']\n",
    "tickers_data = parallelize_fetch(sp500, 'stock_data.pkl', read_cache=False)\n",
    "from copy import deepcopy\n",
    "tickers_data_copy = deepcopy(tickers_data)\n",
    "for k,v in tickers_data_copy.items():\n",
    "    if len(v) != len(tickers_data['AAPL']):\n",
    "        print(f\"Removing {k} from data\")\n",
    "        del tickers_data[k]\n",
    "with open('stock_data.pkl', 'wb') as f:\n",
    "    pickle.dump(tickers_data, f)\n",
    "    "
   ]
  },
  {
   "cell_type": "code",
   "execution_count": null,
   "metadata": {},
   "outputs": [],
   "source": [
    "tickers_data = {ticker: Ticker(ticker).get_momentum().get_market_beta() for ticker in tqdm(Ticker.DATA_DICT.keys())}\n"
   ]
  },
  {
   "cell_type": "code",
   "execution_count": null,
   "metadata": {},
   "outputs": [],
   "source": [
    "tickers_data"
   ]
  },
  {
   "cell_type": "code",
   "execution_count": null,
   "metadata": {},
   "outputs": [],
   "source": [
    "def calc_mom (ticker, p1 ,p2):\n",
    "    date = tickers_data_copy[ticker][p1:p2][-1]['date']\n",
    "    Y = np.log(pl.DataFrame(tickers_data_copy[ticker])[p1:p2]['close_price'].to_numpy())\n",
    "    X = np.array(range(1, len(Y)+1))\n",
    "    model = perform_regression(X, Y)\n",
    "    score = model.rsquared\n",
    "    momentum = model.params[1] * score * 252\n",
    "    return {\"date\": date, ticker: momentum}"
   ]
  },
  {
   "cell_type": "code",
   "execution_count": null,
   "metadata": {},
   "outputs": [],
   "source": [
    "def get_momentum(ticker):\n",
    "    return [calc_mom(ticker,p1,p2) for p1, p2 in [(i, i+90) for i in range(0, len(tickers_data_copy[ticker])-90)]]"
   ]
  },
  {
   "cell_type": "code",
   "execution_count": null,
   "metadata": {},
   "outputs": [],
   "source": [
    "with Pool() as pool:\n",
    "    results = list(tqdm(\n",
    "        pool.imap(get_momentum, tickers_data_copy.keys()),\n",
    "        total=len(tickers_data_copy.keys()),\n",
    "        desc=\"Parallelizing momentum calculation\"\n",
    "    ))"
   ]
  },
  {
   "cell_type": "code",
   "execution_count": null,
   "metadata": {},
   "outputs": [],
   "source": [
    "from functools import reduce\n",
    "df = reduce(lambda x, y: x.join(y, on='date', how='left'), [pl.DataFrame(result) for result in results if len(result)])\n",
    "rogue_cols = df.unpivot().filter(pl.col('value').is_null())['variable'].unique().to_list()\n",
    "df = df.drop(rogue_cols)"
   ]
  },
  {
   "cell_type": "code",
   "execution_count": null,
   "metadata": {},
   "outputs": [],
   "source": [
    "def create_momentum_factor (arr, filter_func=None):\n",
    "    if filter_func:\n",
    "        arr = filter_func(arr)\n",
    "    arr = np.sort(arr)\n",
    "    indices = [int(len(arr) * i/10) for i in range(1, 11)]    \n",
    "    sum_by_decile = np.array([np.sum(arr[indices[i]:indices[i+1]]) for i in range(0, len(indices)-1)])\n",
    "    return sum_by_decile[-3:].mean() - sum_by_decile[:3].mean()"
   ]
  },
  {
   "cell_type": "code",
   "execution_count": null,
   "metadata": {},
   "outputs": [],
   "source": [
    "momentum = np.array([create_momentum_factor(np.array(x[1:])) for x in df.iter_rows()])\n",
    "momentum = (momentum / momentum[0]) * 100"
   ]
  },
  {
   "cell_type": "code",
   "execution_count": null,
   "metadata": {},
   "outputs": [],
   "source": [
    "import matplotlib.pyplot as plt\n",
    "momentum = pl.DataFrame({'date': df['date'], 'momentum': momentum})\n",
    "plt.plot(momentum['date'], momentum['momentum'])"
   ]
  },
  {
   "cell_type": "code",
   "execution_count": 27,
   "metadata": {},
   "outputs": [
    {
     "data": {
      "text/html": [
       "<div><style>\n",
       ".dataframe > thead > tr,\n",
       ".dataframe > tbody > tr {\n",
       "  text-align: right;\n",
       "  white-space: pre-wrap;\n",
       "}\n",
       "</style>\n",
       "<small>shape: (10, 2)</small><table border=\"1\" class=\"dataframe\"><thead><tr><th>ticker</th><th>momentum</th></tr><tr><td>str</td><td>f64</td></tr></thead><tbody><tr><td>&quot;VRSN&quot;</td><td>0.877446</td></tr><tr><td>&quot;GILD&quot;</td><td>0.648542</td></tr><tr><td>&quot;PM&quot;</td><td>0.568565</td></tr><tr><td>&quot;GL&quot;</td><td>0.563443</td></tr><tr><td>&quot;T&quot;</td><td>0.53708</td></tr><tr><td>&quot;ABBV&quot;</td><td>0.535829</td></tr><tr><td>&quot;EXC&quot;</td><td>0.520412</td></tr><tr><td>&quot;CVS&quot;</td><td>0.499042</td></tr><tr><td>&quot;FOXA&quot;</td><td>0.467351</td></tr><tr><td>&quot;TPR&quot;</td><td>0.434645</td></tr></tbody></table></div>"
      ],
      "text/plain": [
       "shape: (10, 2)\n",
       "┌────────┬──────────┐\n",
       "│ ticker ┆ momentum │\n",
       "│ ---    ┆ ---      │\n",
       "│ str    ┆ f64      │\n",
       "╞════════╪══════════╡\n",
       "│ VRSN   ┆ 0.877446 │\n",
       "│ GILD   ┆ 0.648542 │\n",
       "│ PM     ┆ 0.568565 │\n",
       "│ GL     ┆ 0.563443 │\n",
       "│ T      ┆ 0.53708  │\n",
       "│ ABBV   ┆ 0.535829 │\n",
       "│ EXC    ┆ 0.520412 │\n",
       "│ CVS    ┆ 0.499042 │\n",
       "│ FOXA   ┆ 0.467351 │\n",
       "│ TPR    ┆ 0.434645 │\n",
       "└────────┴──────────┘"
      ]
     },
     "execution_count": 27,
     "metadata": {},
     "output_type": "execute_result"
    }
   ],
   "source": [
    "df[-1].drop('date').unpivot(variable_name='ticker', value_name='momentum').filter(pl.col('momentum')>0).sort('momentum', descending=True)[:10]"
   ]
  },
  {
   "cell_type": "code",
   "execution_count": null,
   "metadata": {},
   "outputs": [],
   "source": [
    "sp500 = get_sp500_data()['Symbol'].to_list()\n",
    "tickers_data = {ticker: Ticker(ticker).get_momentum().get_market_beta() for ticker in tqdm(Ticker.DATA_DICT.keys())}"
   ]
  },
  {
   "cell_type": "code",
   "execution_count": null,
   "metadata": {},
   "outputs": [],
   "source": [
    "import pickle\n",
    "with open('tickers.pkl', 'wb') as f:\n",
    "    pickle.dump(tickers_data, f)"
   ]
  },
  {
   "cell_type": "code",
   "execution_count": null,
   "metadata": {},
   "outputs": [],
   "source": [
    "momentum = pl.DataFrame({\n",
    "    \"ticker\": list(tickers_data.keys()),\n",
    "    \"momentum\": [tickers_data[ticker].momentum for ticker in tickers_data.keys()],\n",
    "    \"alpha\": [tickers_data[ticker].alpha['coef'] for ticker in tickers_data.keys()]\n",
    "}).sort('alpha', descending=True)[:7]['ticker'].to_list()"
   ]
  },
  {
   "cell_type": "code",
   "execution_count": null,
   "metadata": {},
   "outputs": [],
   "source": [
    "\n",
    "sp500 = sp500[sp500.index.is_in(momentum)]"
   ]
  },
  {
   "cell_type": "code",
   "execution_count": null,
   "metadata": {},
   "outputs": [],
   "source": [
    "def calculate_moving_average(data, window=100):\n",
    "    return list(map(\n",
    "        lambda i: sum(data[i:i+window]) / window, \n",
    "        range(len(data) - window + 1)\n",
    "    ))"
   ]
  },
  {
   "cell_type": "code",
   "execution_count": null,
   "metadata": {},
   "outputs": [],
   "source": [
    "# plt.plot(tickers_data['^SPX'].price)\n",
    "calculate_moving_average(tickers_data['^SPX'].price)"
   ]
  },
  {
   "cell_type": "code",
   "execution_count": null,
   "metadata": {},
   "outputs": [],
   "source": [
    "import matplotlib.pyplot as plt\n",
    "\n",
    "for ticker in momentum:\n",
    "    prices = tickers_data[ticker].price \n",
    "    rescaled_prices = prices / prices[0]\n",
    "    plt.plot(rescaled_prices, label=ticker)\n",
    "\n",
    "plt.legend()\n"
   ]
  },
  {
   "cell_type": "code",
   "execution_count": null,
   "metadata": {},
   "outputs": [],
   "source": [
    "w.calculate_momentum(strategy='ols')"
   ]
  },
  {
   "cell_type": "code",
   "execution_count": null,
   "metadata": {},
   "outputs": [],
   "source": []
  }
 ],
 "metadata": {
  "kernelspec": {
   "display_name": "finance",
   "language": "python",
   "name": "python3"
  },
  "language_info": {
   "codemirror_mode": {
    "name": "ipython",
    "version": 3
   },
   "file_extension": ".py",
   "mimetype": "text/x-python",
   "name": "python",
   "nbconvert_exporter": "python",
   "pygments_lexer": "ipython3",
   "version": "3.13.2"
  }
 },
 "nbformat": 4,
 "nbformat_minor": 2
}
